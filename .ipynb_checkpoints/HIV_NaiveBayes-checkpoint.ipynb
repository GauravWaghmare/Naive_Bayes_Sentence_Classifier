{
 "cells": [
  {
   "cell_type": "code",
   "execution_count": 14,
   "metadata": {
    "collapsed": true
   },
   "outputs": [],
   "source": [
    "from __future__ import print_function"
   ]
  },
  {
   "cell_type": "code",
   "execution_count": 15,
   "metadata": {
    "collapsed": true
   },
   "outputs": [],
   "source": [
    "import csv"
   ]
  },
  {
   "cell_type": "code",
   "execution_count": 16,
   "metadata": {
    "collapsed": true
   },
   "outputs": [],
   "source": [
    "from nltk.stem import *\n",
    "import nltk"
   ]
  },
  {
   "cell_type": "code",
   "execution_count": 17,
   "metadata": {
    "collapsed": true
   },
   "outputs": [],
   "source": [
    "import numpy as np\n",
    "import scipy"
   ]
  },
  {
   "cell_type": "code",
   "execution_count": 18,
   "metadata": {
    "collapsed": true
   },
   "outputs": [],
   "source": [
    "from sklearn.naive_bayes import MultinomialNB"
   ]
  },
  {
   "cell_type": "code",
   "execution_count": 19,
   "metadata": {
    "collapsed": false
   },
   "outputs": [],
   "source": [
    "# Read the CSV file into a list of lists\n",
    "data = []\n",
    "with open('/home/gaurav/Downloads/Dataset_Bayesian_HIV_AIDS - Sheet1.csv') as csvfile:\n",
    "    spamreader = csv.reader(csvfile, delimiter=',', quotechar='|')\n",
    "    for row in spamreader:\n",
    "#         print(', '.join(row))\n",
    "#         print(row)\n",
    "        data.append(row)"
   ]
  },
  {
   "cell_type": "code",
   "execution_count": 20,
   "metadata": {
    "collapsed": false
   },
   "outputs": [],
   "source": [
    "# Remove the first row\n",
    "data = data[1:]\n",
    "\n",
    "# Change all characters to lower case\n",
    "for element in data:\n",
    "    element[0] = element[0].lower()"
   ]
  },
  {
   "cell_type": "code",
   "execution_count": 21,
   "metadata": {
    "collapsed": false
   },
   "outputs": [],
   "source": [
    "# Change all sentences to tokens \n",
    "sentences = []\n",
    "for element in data:\n",
    "    sentences.append(nltk.word_tokenize(element[0]))\n",
    "# words"
   ]
  },
  {
   "cell_type": "code",
   "execution_count": 22,
   "metadata": {
    "collapsed": true
   },
   "outputs": [],
   "source": [
    "# sentences\n",
    "# Change all tokens to their respective stems\n",
    "stems = []\n",
    "from nltk.stem.porter import *\n",
    "stemmer = PorterStemmer()\n",
    "for sentence in sentences:\n",
    "    stem = [stemmer.stem(word) for word in sentence]\n",
    "    stems.append(stem)\n",
    "# stems\n",
    "\n",
    "sentences = stems"
   ]
  },
  {
   "cell_type": "code",
   "execution_count": 23,
   "metadata": {
    "collapsed": false
   },
   "outputs": [],
   "source": [
    "# Construct vocabulary\n",
    "vocab = dict()\n",
    "vocab_size = 0\n",
    "for i in sentences:\n",
    "    for ii in i:\n",
    "        vocab[ii] = 1\n",
    "vocab_size = len(vocab)\n",
    "# vocab_size"
   ]
  },
  {
   "cell_type": "code",
   "execution_count": 24,
   "metadata": {
    "collapsed": false
   },
   "outputs": [],
   "source": [
    "# Construct a map to store position of each word in the vocabulary\n",
    "vocab_arr = list(vocab.keys())\n",
    "vocab_arr.sort()\n",
    "word_pos = dict()\n",
    "i = 0\n",
    "for word in vocab_arr:\n",
    "    word_pos[word] = i\n",
    "    i += 1\n",
    "# word_pos"
   ]
  },
  {
   "cell_type": "code",
   "execution_count": 25,
   "metadata": {
    "collapsed": false
   },
   "outputs": [],
   "source": [
    "no_ques = len(sentences)\n",
    "# print(no_ques)\n",
    "no_words = i\n",
    "# print(no_words)"
   ]
  },
  {
   "cell_type": "code",
   "execution_count": 26,
   "metadata": {
    "collapsed": false
   },
   "outputs": [],
   "source": [
    "X = np.zeros((no_ques, no_words))\n",
    "# print(X.shape)"
   ]
  },
  {
   "cell_type": "code",
   "execution_count": 27,
   "metadata": {
    "collapsed": false
   },
   "outputs": [
    {
     "data": {
      "text/plain": [
       "True"
      ]
     },
     "execution_count": 27,
     "metadata": {},
     "output_type": "execute_result"
    }
   ],
   "source": [
    "u'vitamin' in word_pos.keys()"
   ]
  },
  {
   "cell_type": "code",
   "execution_count": 28,
   "metadata": {
    "collapsed": false
   },
   "outputs": [],
   "source": [
    "for i in range(no_ques):\n",
    "    for word in stems[i]:\n",
    "        X[i, word_pos[word]] += 1\n",
    "#         print(X[i][word_pos[word]])\n",
    "#         print(word_pos[word])\n",
    "# print(X)"
   ]
  },
  {
   "cell_type": "code",
   "execution_count": 29,
   "metadata": {
    "collapsed": false
   },
   "outputs": [],
   "source": [
    "Y = np.zeros((no_ques))\n",
    "for i in range(no_ques):\n",
    "    Y[i] = data[i][1]\n",
    "# print(Y)"
   ]
  },
  {
   "cell_type": "code",
   "execution_count": 30,
   "metadata": {
    "collapsed": false
   },
   "outputs": [
    {
     "data": {
      "text/plain": [
       "MultinomialNB(alpha=1.0, class_prior=None, fit_prior=True)"
      ]
     },
     "execution_count": 30,
     "metadata": {},
     "output_type": "execute_result"
    }
   ],
   "source": [
    "clf = MultinomialNB()\n",
    "clf.fit(X, Y)"
   ]
  },
  {
   "cell_type": "code",
   "execution_count": 31,
   "metadata": {
    "collapsed": false
   },
   "outputs": [
    {
     "name": "stdout",
     "output_type": "stream",
     "text": [
      "[  0.   9.   0.   0.   1.   1.   1.   1.   1.   2.   2.   2.   2.   3.   3.\n",
      "   3.   3.   4.   4.   4.   4.   5.   5.   5.   5.   6.   6.   6.   6.   6.\n",
      "   7.   7.   7.   7.   8.   8.   8.   8.   9.   9.   9.   9.  10.  10.  10.\n",
      "  10.  11.  11.  11.  11.  12.  12.  12.  12.  12.  13.  13.  13.  13.  14.\n",
      "  14.  14.  14.  15.  15.  15.  16.  16.  16.  17.  17.  17.  18.  18.  14.\n",
      "  14.  19.  19.  19.  19.  20.  20.  20.  21.  21.  21.  21.  26.  22.  23.\n",
      "  23.  23.  23.  26.  24.  25.  25.  25.  25.  26.  26.  26.  26.  26.  26.\n",
      "  27.  27.  27.  27.  28.  28.  28.  28.  28.  28.  28.  29.  29.  29.  29.\n",
      "  29.  29.   4.  29.  30.  31.  31.  32.  32.  32.]\n"
     ]
    }
   ],
   "source": [
    "print(clf.predict(X))"
   ]
  },
  {
   "cell_type": "code",
   "execution_count": 32,
   "metadata": {
    "collapsed": false
   },
   "outputs": [],
   "source": [
    "# hiv = np.zeros((1, no_words))\n",
    "# hiv[0][word_pos['hiv']] = 1\n",
    "# print(clf.predict(hiv))"
   ]
  },
  {
   "cell_type": "code",
   "execution_count": 33,
   "metadata": {
    "collapsed": false
   },
   "outputs": [],
   "source": [
    "# Experiment with textblob\n",
    "# from textblob.classifiers import NaiveBayesClassifier\n",
    "# with open('/home/gaurav/Downloads/Dataset_Bayesian_HIV_AIDS - Sheet1.csv') as csvfile:\n",
    "#     cl = NaiveBayesClassifier(csvfile, format=\"csv\")\n",
    "# cl.classify(\"HIV\")"
   ]
  },
  {
   "cell_type": "code",
   "execution_count": 34,
   "metadata": {
    "collapsed": false
   },
   "outputs": [],
   "source": [
    "from res_map import responses\n",
    "res = responses"
   ]
  },
  {
   "cell_type": "code",
   "execution_count": 35,
   "metadata": {
    "collapsed": false
   },
   "outputs": [
    {
     "name": "stdout",
     "output_type": "stream",
     "text": [
      "[[ 0.  0.  0.  0.  0.  0.  0.  0.  0.  0.  0.  0.  0.  0.  0.  0.  0.  0.\n",
      "   0.  0.  0.  0.  0.  0.  0.  0.  0.  0.  0.  0.  0.  0.  0.  0.  0.  0.\n",
      "   0.  0.  0.  0.  0.  0.  0.  0.  0.  0.  0.  0.  0.  0.  0.  0.  0.  0.\n",
      "   0.  0.  0.  0.  0.  0.  0.  0.  0.  0.  0.  0.  0.  0.  0.  0.  0.  0.\n",
      "   0.  0.  0.  0.  0.  0.  0.  1.  0.  0.  0.  0.  0.  0.  0.  0.  0.  0.\n",
      "   0.  0.  0.  0.  0.  0.  0.  0.  0.  0.  0.  0.  0.  0.  0.  0.  0.  0.\n",
      "   0.  0.  0.  0.  0.  0.  0.  0.  0.  0.  0.  0.  0.  0.  0.  0.  0.  0.\n",
      "   0.  0.  0.  0.  0.  0.  0.  0.  0.  0.  0.  0.  0.  0.  0.  0.  0.  0.\n",
      "   0.  0.  0.  0.  0.  0.  0.  0.  0.  0.  0.  0.  0.  0.  0.  0.  0.  0.\n",
      "   0.  0.  0.  0.  0.  0.  0.  0.  0.  0.  0.  0.  0.  0.  0.  0.  0.  0.\n",
      "   0.  0.  0.  0.  0.  0.  0.  0.  0.  0.  0.  0.  0.  0.  0.  0.  0.  0.\n",
      "   0.  0.  0.  0.  0.  0.  0.]]\n"
     ]
    }
   ],
   "source": [
    "def vector(string):\n",
    "    string = string.lower()\n",
    "    tokens = nltk.word_tokenize(string)\n",
    "    stems = [stemmer.stem(word) for word in tokens]\n",
    "    vec = np.zeros((1, no_words))\n",
    "    for stem in stems:\n",
    "        vec[0][word_pos[stem]] += 1\n",
    "    return vec\n",
    "# print (vector(\"HIV\"))"
   ]
  },
  {
   "cell_type": "code",
   "execution_count": null,
   "metadata": {
    "collapsed": true
   },
   "outputs": [],
   "source": [
    "def respond(string):\n",
    "    "
   ]
  }
 ],
 "metadata": {
  "kernelspec": {
   "display_name": "Python 2",
   "language": "python",
   "name": "python2"
  },
  "language_info": {
   "codemirror_mode": {
    "name": "ipython",
    "version": 2
   },
   "file_extension": ".py",
   "mimetype": "text/x-python",
   "name": "python",
   "nbconvert_exporter": "python",
   "pygments_lexer": "ipython2",
   "version": "2.7.12"
  }
 },
 "nbformat": 4,
 "nbformat_minor": 2
}
