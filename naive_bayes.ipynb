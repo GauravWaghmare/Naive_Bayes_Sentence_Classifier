{
 "cells": [
  {
   "cell_type": "code",
   "execution_count": 1,
   "metadata": {
    "collapsed": true
   },
   "outputs": [],
   "source": [
    "from __future__ import print_function"
   ]
  },
  {
   "cell_type": "code",
   "execution_count": 2,
   "metadata": {
    "collapsed": true
   },
   "outputs": [],
   "source": [
    "import csv"
   ]
  },
  {
   "cell_type": "code",
   "execution_count": 3,
   "metadata": {
    "collapsed": true
   },
   "outputs": [],
   "source": [
    "from nltk.stem import *\n",
    "import nltk"
   ]
  },
  {
   "cell_type": "code",
   "execution_count": 4,
   "metadata": {
    "collapsed": true
   },
   "outputs": [],
   "source": [
    "import numpy as np\n",
    "import scipy"
   ]
  },
  {
   "cell_type": "code",
   "execution_count": 5,
   "metadata": {
    "collapsed": true
   },
   "outputs": [],
   "source": [
    "from sklearn.naive_bayes import MultinomialNB"
   ]
  },
  {
   "cell_type": "code",
   "execution_count": 6,
   "metadata": {
    "collapsed": false
   },
   "outputs": [],
   "source": [
    "# Read the CSV file into a list of lists\n",
    "data = []\n",
    "with open('/home/gaurav/Downloads/Dataset_Bayesian_HIV_AIDS - Sheet1.csv') as csvfile:\n",
    "    spamreader = csv.reader(csvfile, delimiter=',', quotechar='|')\n",
    "    for row in spamreader:\n",
    "#         print(', '.join(row))\n",
    "#         print(row)\n",
    "        data.append(row)"
   ]
  },
  {
   "cell_type": "code",
   "execution_count": 7,
   "metadata": {
    "collapsed": false
   },
   "outputs": [],
   "source": [
    "# Remove the first row\n",
    "data = data[1:]\n",
    "\n",
    "# Change all characters to lower case\n",
    "for element in data:\n",
    "    element[0] = element[0].lower()"
   ]
  },
  {
   "cell_type": "code",
   "execution_count": 8,
   "metadata": {
    "collapsed": false
   },
   "outputs": [],
   "source": [
    "# Change all sentences to tokens \n",
    "sentences = []\n",
    "for element in data:\n",
    "    sentences.append(nltk.word_tokenize(element[0]))\n",
    "# words"
   ]
  },
  {
   "cell_type": "code",
   "execution_count": 9,
   "metadata": {
    "collapsed": true
   },
   "outputs": [],
   "source": [
    "# sentences\n",
    "# Change all tokens to their respective stems\n",
    "stems = []\n",
    "from nltk.stem.porter import *\n",
    "stemmer = PorterStemmer()\n",
    "for sentence in sentences:\n",
    "    stem = [stemmer.stem(word) for word in sentence]\n",
    "    stems.append(stem)\n",
    "# stems\n",
    "\n",
    "sentences = stems"
   ]
  },
  {
   "cell_type": "code",
   "execution_count": 10,
   "metadata": {
    "collapsed": false
   },
   "outputs": [],
   "source": [
    "# Construct vocabulary\n",
    "vocab = dict()\n",
    "vocab_size = 0\n",
    "for i in sentences:\n",
    "    for ii in i:\n",
    "        vocab[ii] = 1\n",
    "vocab_size = len(vocab)\n",
    "# vocab_size"
   ]
  },
  {
   "cell_type": "code",
   "execution_count": 11,
   "metadata": {
    "collapsed": false
   },
   "outputs": [],
   "source": [
    "# Construct a map to store position of each word in the vocabulary\n",
    "vocab_arr = list(vocab.keys())\n",
    "vocab_arr.sort()\n",
    "word_pos = dict()\n",
    "i = 0\n",
    "for word in vocab_arr:\n",
    "    word_pos[word] = i\n",
    "    i += 1\n",
    "# word_pos"
   ]
  },
  {
   "cell_type": "code",
   "execution_count": 12,
   "metadata": {
    "collapsed": false
   },
   "outputs": [],
   "source": [
    "no_ques = len(sentences)\n",
    "# print(no_ques)\n",
    "no_words = i\n",
    "# print(no_words)"
   ]
  },
  {
   "cell_type": "code",
   "execution_count": 13,
   "metadata": {
    "collapsed": false
   },
   "outputs": [],
   "source": [
    "X = np.zeros((no_ques, no_words))\n",
    "# print(X.shape)"
   ]
  },
  {
   "cell_type": "code",
   "execution_count": 14,
   "metadata": {
    "collapsed": false
   },
   "outputs": [
    {
     "data": {
      "text/plain": [
       "True"
      ]
     },
     "execution_count": 14,
     "metadata": {},
     "output_type": "execute_result"
    }
   ],
   "source": [
    "u'vitamin' in word_pos.keys()"
   ]
  },
  {
   "cell_type": "code",
   "execution_count": 15,
   "metadata": {
    "collapsed": false
   },
   "outputs": [],
   "source": [
    "for i in range(no_ques):\n",
    "    for word in stems[i]:\n",
    "        X[i, word_pos[word]] += 1\n",
    "#         print(X[i][word_pos[word]])\n",
    "#         print(word_pos[word])\n",
    "# print(X)"
   ]
  },
  {
   "cell_type": "code",
   "execution_count": 16,
   "metadata": {
    "collapsed": false
   },
   "outputs": [],
   "source": [
    "Y = np.zeros((no_ques))\n",
    "for i in range(no_ques):\n",
    "    Y[i] = data[i][1]\n",
    "# print(Y)"
   ]
  },
  {
   "cell_type": "code",
   "execution_count": 17,
   "metadata": {
    "collapsed": false
   },
   "outputs": [
    {
     "data": {
      "text/plain": [
       "MultinomialNB(alpha=1.0, class_prior=None, fit_prior=True)"
      ]
     },
     "execution_count": 17,
     "metadata": {},
     "output_type": "execute_result"
    }
   ],
   "source": [
    "clf = MultinomialNB()\n",
    "clf.fit(X, Y)"
   ]
  },
  {
   "cell_type": "code",
   "execution_count": 18,
   "metadata": {
    "collapsed": false
   },
   "outputs": [
    {
     "name": "stdout",
     "output_type": "stream",
     "text": [
      "[  0.   9.   0.   0.   0.   1.   1.   1.   1.   1.   2.   2.   2.   2.   3.\n",
      "   3.   3.   3.   4.   4.   4.   4.   5.   5.   5.   5.   6.   6.   6.   6.\n",
      "   6.   7.   7.   7.   7.   8.   8.   8.   8.   9.   9.   9.   9.  10.  10.\n",
      "  10.  10.  11.  11.  11.  11.  12.  12.  12.  12.  12.  13.  13.  13.  13.\n",
      "  14.  14.  14.  14.  15.  15.  15.  16.  16.  16.  17.  17.  17.  18.  18.\n",
      "  14.  14.  19.  19.  19.  19.  20.  20.  20.  21.  21.  21.  21.  26.  22.\n",
      "  23.  23.  23.  23.  26.  24.  25.  25.  25.  25.  26.  26.  26.  26.  26.\n",
      "  26.  27.  27.  27.  27.  28.  28.  28.  28.  28.  28.  28.  29.  29.  29.\n",
      "  29.  29.  29.   4.  29.  30.  31.  31.  32.  32.  32.]\n"
     ]
    }
   ],
   "source": [
    "print(clf.predict(X))"
   ]
  },
  {
   "cell_type": "code",
   "execution_count": 19,
   "metadata": {
    "collapsed": false
   },
   "outputs": [],
   "source": [
    "# hiv = np.zeros((1, no_words))\n",
    "# hiv[0][word_pos['hiv']] = 1\n",
    "# print(clf.predict(hiv))"
   ]
  },
  {
   "cell_type": "code",
   "execution_count": 20,
   "metadata": {
    "collapsed": false
   },
   "outputs": [],
   "source": [
    "# Experiment with textblob\n",
    "# from textblob.classifiers import NaiveBayesClassifier\n",
    "# with open('/home/gaurav/Downloads/Dataset_Bayesian_HIV_AIDS - Sheet1.csv') as csvfile:\n",
    "#     cl = NaiveBayesClassifier(csvfile, format=\"csv\")\n",
    "# cl.classify(\"HIV\")"
   ]
  },
  {
   "cell_type": "code",
   "execution_count": 21,
   "metadata": {
    "collapsed": false
   },
   "outputs": [
    {
     "name": "stdout",
     "output_type": "stream",
     "text": [
      "[\"HIV (Human Immunodeficiency Virus) is a virus. You may hear that someone is HIV infected, has HIV infection, or has HIV disease. These are all terms that mean the person has HIV in his or her body and can pass the virus to other people. HIV attacks the body's immune system. The immune system protects the body from infections and disease, but has no clear way to protect it from HIV. Without treatment, most people infected with HIV become less able to fight off the germs that we are exposed to every day. Many of these germs do not usually make a healthy person sick, but they can cause life-threatening infections and cancers in a person whose immune system has been weakened by HIV. HIV treatments can slow this process and allow people with HIV to live longer, healthier lives (see question 66). \\nPeople infected with HIV may have no symptoms for ten or more years. They may not know they are infected. An HIV test is the only way to find out if you have HIV\", 'AIDS (Acquired Immune Deficiency Syndrome) is a late stage of HIV disease. According to the Centers for Disease Control and Prevention (CDC), a person with HIV infection has AIDS when he or she: \\n-> has a CD4 cell count (a way to measure the strength of the immune system) that falls below 200. A normal CD4 cell count is 500 or higher. \\nOR \\n-> develops any of the specific, serious conditions - also called AIDS-defining illnesses - that are linked with HIV infection (see Appendix for a list of these conditions). ', \"A person of any age, sex, race, ethnic group, religion, economic background, or sexual orientation can get HIV. Those who are most at risk are: \\n-> people who have 'unprotected sex' with someone who has HIV. Unprotected sex means vaginal, anal, or oral sex without using a condom. \\n-> people who share needles, syringes, or other equipment to inject drugs, steroids, or even vitamins or medicine with someone who has HIV. \\n-> Babies can potentially become infected during their mothers' pregnancy, during delivery, or after birth in the immediate post-partum period. They can also become infected through breastfeeding. \\nA person of any age, sex, race, ethnic group, religion, economic background, or sexual orientation can get HIV. \\n-> Health care and maintenance workers who may be exposed to blood and/or body fluids at work sometimes get infected through on-the-job exposures like needle-stick injuries (see question 31). \", 'Medicines that fight HIV have helped many people with HIV and AIDS live years and even decades longer than was possible in the past, before effective treatment was available. HIV treatments are not a cure, and they do not work equally well for everyone, but they have extended the lives of many people with HIV and AIDS. Without treatment, some people live for just a few years after getting HIV. Others live much longer. Researchers are studying a small number of people with HIV who have not become ill for more than ten years, even without any HIV treatment. However, these people are still infected with HIV and can pass the virus to others. ', 'No. There is no vaccine to prevent HIV infection. Researchers are working to develop a vaccine. Vaccines in development are being tested to find out if they work. ', 'No. There is no cure for HIV or AIDS. However, there are medicines that fight HIV and help people with HIV and AIDS live longer, healthier lives. ', ' According to the United Nations organization UNAIDS, as of 2003 there were an estimated 40 million persons living with HIV and AIDS worldwide. Of these, 37 million were adults, and 2.5 million were under age 15. The overwhelming majority of persons with HIV live in resource-poor countries. As of December 2002, 517,000 persons were known to be living with HIV and AIDS in the United States. The U.S. Centers for Disease Control and Prevention (CDC) estimates that 170,000 more Americans are infected with HIV but do not know it. Additionally, CDC estimates that 501,669 persons had died from AIDS in the U.S. as of December 2002. ', ' As of December 2007, more than 180,674 persons in New York State had been diagnosed with AIDS; approximately 73,889 of those persons are still living. Of those 73,889 persons living with AIDS: \\n-> 44% are African American. \\n-> 30% are Hispanic. \\n-> 25% are white. \\n-> 0.7% are Asian/Pacific Islander. \\n-> 0.1% are Native American. \\n-> 26% are women. \\n-> 5% are under the age of 25. \\n-> 15% are over the age of 50.', 'Update not available', ' HIV is spread when infected blood, semen, vaginal fluids, or breast milk gets into the bloodstream of another person through: -> direct entry into a blood vessel; -> mucous linings, such as the vagina, rectum, penis, mouth, eyes, or nose; or \\n-> a break in the skin. HIV is not spread through saliva (spit). You can only get HIV if infected blood, semen, vaginal fluids, or breast milk gets into your body. \\nHIV is spread in the following ways: \\n-> Having vaginal, anal, or oral sex without using a condom. \\n-> Sharing needles, syringes, or works to inject drugs, vitamins, hormones, steroids, or medicines. \\n-> Women with HIV infection can pass HIV to their babies during pregnancy, delivery, and breastfeeding. \\n-> People who are exposed to blood and/or body fluids at work, like health care workers, may be exposed to HIV through needle-sticks or other on-the-job exposures. ', 'No. But it is important to know that you can be infected by a single exposure to HIV-infected blood, semen, or vaginal fluids. Whether a person becomes infected after being exposed to HIV depends on how the virus enters the body and the amount of virus that enters the body', 'To be updated', 'To be updated', 'To be updated', 'To be updated', 'To be updated', 'To be updated', 'To be updated', 'To be updated', 'To be updated', 'To be updated', 'To be updated', 'To be updated', 'To be updated', 'To be updated', 'To be updated', 'To be updated', 'To be updated', 'To be updated', 'To be updated', 'To be updated', 'To be updated']\n"
     ]
    }
   ],
   "source": [
    "from res_map import responses\n",
    "res = responses()\n",
    "# print (res)"
   ]
  },
  {
   "cell_type": "code",
   "execution_count": 22,
   "metadata": {
    "collapsed": false
   },
   "outputs": [],
   "source": [
    "def vector(string):\n",
    "    string = string.lower()\n",
    "    tokens = nltk.word_tokenize(string)\n",
    "    stems = [stemmer.stem(word) for word in tokens]\n",
    "    vec = np.zeros((1, no_words))\n",
    "    for stem in stems:\n",
    "        vec[0][word_pos[stem]] += 1\n",
    "    return vec\n",
    "# print (vector(\"HIV\"))"
   ]
  },
  {
   "cell_type": "code",
   "execution_count": 27,
   "metadata": {
    "collapsed": false
   },
   "outputs": [],
   "source": [
    "def respond():\n",
    "    ask = raw_input()\n",
    "    vec = vector(ask)\n",
    "    no = clf.predict(vec)[0]\n",
    "    no = int(no)\n",
    "    print (res[no])\n",
    "    print (no)\n",
    "# respond()"
   ]
  },
  {
   "cell_type": "code",
   "execution_count": 32,
   "metadata": {
    "collapsed": false
   },
   "outputs": [
    {
     "name": "stdout",
     "output_type": "stream",
     "text": [
      "aids\n",
      "AIDS (Acquired Immune Deficiency Syndrome) is a late stage of HIV disease. According to the Centers for Disease Control and Prevention (CDC), a person with HIV infection has AIDS when he or she: \n",
      "-> has a CD4 cell count (a way to measure the strength of the immune system) that falls below 200. A normal CD4 cell count is 500 or higher. \n",
      "OR \n",
      "-> develops any of the specific, serious conditions - also called AIDS-defining illnesses - that are linked with HIV infection (see Appendix for a list of these conditions). \n",
      "1\n"
     ]
    }
   ],
   "source": [
    "respond()"
   ]
  },
  {
   "cell_type": "code",
   "execution_count": 26,
   "metadata": {
    "collapsed": false
   },
   "outputs": [
    {
     "data": {
      "text/plain": [
       "131"
      ]
     },
     "execution_count": 26,
     "metadata": {},
     "output_type": "execute_result"
    }
   ],
   "source": [
    "len(data)"
   ]
  },
  {
   "cell_type": "code",
   "execution_count": 35,
   "metadata": {
    "collapsed": false
   },
   "outputs": [
    {
     "data": {
      "text/plain": [
       "array([[ 0.,  0.,  0., ...,  0.,  0.,  0.],\n",
       "       [ 0.,  0.,  0., ...,  0.,  0.,  0.],\n",
       "       [ 0.,  0.,  0., ...,  0.,  0.,  0.],\n",
       "       ..., \n",
       "       [ 0.,  0.,  0., ...,  0.,  0.,  0.],\n",
       "       [ 0.,  0.,  0., ...,  0.,  0.,  0.],\n",
       "       [ 0.,  0.,  0., ...,  0.,  0.,  0.]])"
      ]
     },
     "execution_count": 35,
     "metadata": {},
     "output_type": "execute_result"
    }
   ],
   "source": [
    "X"
   ]
  },
  {
   "cell_type": "code",
   "execution_count": 36,
   "metadata": {
    "collapsed": false
   },
   "outputs": [
    {
     "data": {
      "text/plain": [
       "[['what', 'is', 'hiv'],\n",
       " ['what', 'is', 'human', u'immunodefici', u'viru'],\n",
       " ['what', u'doe', 'hiv', 'do'],\n",
       " ['give', 'me', 'some', u'inform', 'about', 'hiv'],\n",
       " ['tell', 'me', 'about', 'hiv'],\n",
       " ['what', 'is', u'aid'],\n",
       " ['what', 'is', u'acquir', 'immuno', u'defici', u'viru'],\n",
       " ['what', u'happen', 'when', u'someon', u'get', u'aid'],\n",
       " ['give', 'me', 'some', u'inform', 'about', u'aid'],\n",
       " ['do', u'peopl', 'with', u'aid', 'go', u'insan'],\n",
       " ['who', 'is', 'at', 'risk', 'for', u'get', 'hiv'],\n",
       " ['who', 'can', 'get', u'infect', 'with', 'hiv'],\n",
       " ['how', 'can', 'one', 'get', 'hiv'],\n",
       " ['how', u'doe', 'one', 'get', 'hiv'],\n",
       " ['how', 'long', 'can', u'peopl', 'live', 'with', 'hiv', 'or', u'aid'],\n",
       " ['do', u'peopl', 'with', 'hiv', 'die', 'in', 'short', 'time'],\n",
       " ['i', 'have', 'hiv', 'how', 'long', 'will', 'i', 'live'],\n",
       " ['how', u'mani', u'year', 'can', 'i', 'live', 'after', u'get', 'hiv'],\n",
       " ['can',\n",
       "  'i',\n",
       "  'get',\n",
       "  'a',\n",
       "  u'vaccin',\n",
       "  'to',\n",
       "  'prevent',\n",
       "  'hiv',\n",
       "  u'infect',\n",
       "  'or',\n",
       "  u'aid'],\n",
       " ['is',\n",
       "  'there',\n",
       "  'a',\n",
       "  u'vaccin',\n",
       "  'to',\n",
       "  'prevent',\n",
       "  'hiv',\n",
       "  u'infect',\n",
       "  'or',\n",
       "  u'aid'],\n",
       " ['what', 'are', 'the', u'vaccin', 'for', 'hiv'],\n",
       " ['do', u'vaccin', 'exist', 'for', 'hiv'],\n",
       " ['what', 'are', 'the', u'medicin', 'for', u'aid'],\n",
       " ['is', 'there', 'a', 'cure', 'for', 'hiv', 'or', u'aid'],\n",
       " ['how', 'is', 'hiv', 'or', u'aid', u'cure'],\n",
       " ['what', u'cure', 'exist', 'for', 'hiv', 'or', u'aid'],\n",
       " ['how', u'mani', u'peopl', 'are', 'hiv', u'posit'],\n",
       " ['how', u'mani', u'peopl', 'are', u'live', 'with', 'hiv', 'or', u'aid'],\n",
       " ['how', u'mani', u'peopl', 'are', u'affect', 'with', 'hiv', 'or', u'aid'],\n",
       " ['how', u'mani', u'peopl', 'are', u'infect', 'with', 'hiv'],\n",
       " ['how', u'mani', u'peopl', 'are', u'suffer', 'from', u'aid'],\n",
       " ['what',\n",
       "  'is',\n",
       "  'the',\n",
       "  u'statu',\n",
       "  'of',\n",
       "  'the',\n",
       "  'hiv',\n",
       "  'or',\n",
       "  u'aid',\n",
       "  u'epidem',\n",
       "  'in',\n",
       "  'india'],\n",
       " ['what', 'is', 'the', u'condit', 'of', 'hiv', 'or', u'aid', 'in', 'india'],\n",
       " ['how', 'is', 'india', 'when', 'it', u'come', 'to', 'hiv', 'or', u'aid'],\n",
       " ['how', u'mani', u'case', 'of', 'hiv', 'are', 'there', 'in', 'india'],\n",
       " ['how', u'doe', 'hiv', 'spread', 'from', 'one', 'person', 'to', u'anoth'],\n",
       " ['how',\n",
       "  u'doe',\n",
       "  'human',\n",
       "  u'immunodefici',\n",
       "  u'viru',\n",
       "  'spread',\n",
       "  'from',\n",
       "  'one',\n",
       "  'person',\n",
       "  'to',\n",
       "  u'anoth'],\n",
       " ['my', 'friend', 'is', u'infect', 'should', 'i', 'avoid', 'him'],\n",
       " ['should',\n",
       "  'i',\n",
       "  'maintain',\n",
       "  'contact',\n",
       "  'with',\n",
       "  u'someon',\n",
       "  'who',\n",
       "  'is',\n",
       "  u'infect'],\n",
       " ['is', 'it', u'easi', 'to', 'get', 'hiv'],\n",
       " ['is', 'hiv', u'easili', 'spread'],\n",
       " ['is', 'it', u'easi', 'to', 'get', 'human', u'immunodefici', u'viru'],\n",
       " ['is', 'human', u'immunodefici', u'viru', u'easili', 'spread'],\n",
       " [u'doe', u'everyon', 'who', 'is', u'expos', 'to', 'hiv', 'get', u'infect'],\n",
       " ['is',\n",
       "  'there',\n",
       "  'a',\n",
       "  u'differ',\n",
       "  'between',\n",
       "  u'get',\n",
       "  'hiv',\n",
       "  'and',\n",
       "  u'get',\n",
       "  u'infect'],\n",
       " ['are', 'hiv', 'and', u'aid', 'same', 'thing'],\n",
       " ['i', 'am', 'hiv', u'posit', 'do', 'i', 'have', u'aid', 'too'],\n",
       " ['how', 'is', 'hiv', 'spread', u'dure', u'inject', 'drug', 'use'],\n",
       " [u'doe', u'inject', 'drug', 'use', 'spread', 'hiv'],\n",
       " [u'doe', u'take', u'drug', u'caus', u'aid'],\n",
       " ['can', u'take', u'drug', u'caus', u'aid'],\n",
       " ['can',\n",
       "  u'inject',\n",
       "  u'vitamin',\n",
       "  u'steroid',\n",
       "  u'hormon',\n",
       "  'or',\n",
       "  'insulin',\n",
       "  'put',\n",
       "  'me',\n",
       "  'at',\n",
       "  'risk',\n",
       "  'for',\n",
       "  'hiv',\n",
       "  u'infect'],\n",
       " ['is', u'inject', u'sugest', 'by', 'doctor', 'can', 'infect', u'someon'],\n",
       " ['should', 'i', 'avoid', u'inject', 'as', 'much', 'as', u'possibl'],\n",
       " ['can', u'inject', 'spread', 'hiv'],\n",
       " ['can', u'inject', 'spread', 'human', u'immunodefici', u'viru'],\n",
       " ['how', 'is', 'hiv', 'spread', u'dure', 'anal', 'sex'],\n",
       " ['how', u'doe', 'anal', 'sex', 'spread', 'hiv'],\n",
       " ['can', 'we', 'just', 'have', 'anal', 'sex', 'to', 'avoid', 'hiv'],\n",
       " ['can', 'anal', 'sex', 'spread', 'hiv'],\n",
       " ['how', 'is', 'hiv', 'spread', u'dure', u'vagin', 'sex'],\n",
       " ['how', u'doe', u'vagin', 'sex', 'spread', 'hiv'],\n",
       " ['can', u'vagin', 'sex', 'spread', 'hiv'],\n",
       " ['can', 'normal', 'sex', 'spread', 'hiv'],\n",
       " ['how', 'is', 'hiv', 'spread', u'dure', 'oral', 'sex'],\n",
       " ['how', u'doe', 'oral', 'sex', 'spread', 'hiv'],\n",
       " ['can', 'oral', 'sex', 'spread', 'hiv'],\n",
       " [u'doe',\n",
       "  u'have',\n",
       "  'a',\n",
       "  u'sexual',\n",
       "  u'transmit',\n",
       "  u'diseas',\n",
       "  'std',\n",
       "  'affect',\n",
       "  'my',\n",
       "  'risk',\n",
       "  'of',\n",
       "  u'get',\n",
       "  'hiv'],\n",
       " ['can', u'std', 'somehow', 'convert', 'to', 'hiv'],\n",
       " ['is', 'there', u'ani', u'differ', 'between', 'hiv', 'and', u'std'],\n",
       " [u'doe',\n",
       "  'sexual',\n",
       "  'contact',\n",
       "  'with',\n",
       "  u'mani',\n",
       "  u'partner',\n",
       "  u'increas',\n",
       "  'my',\n",
       "  'risk',\n",
       "  'of',\n",
       "  u'get',\n",
       "  'hiv'],\n",
       " ['i',\n",
       "  'had',\n",
       "  'sex',\n",
       "  'with',\n",
       "  'a',\n",
       "  u'prostitut',\n",
       "  'would',\n",
       "  'i',\n",
       "  'get',\n",
       "  u'infect'],\n",
       " [u'doe',\n",
       "  u'have',\n",
       "  u'multipl',\n",
       "  'sex',\n",
       "  u'partner',\n",
       "  'put',\n",
       "  'me',\n",
       "  'at',\n",
       "  'risk',\n",
       "  'of',\n",
       "  u'get',\n",
       "  'hiv'],\n",
       " ['are',\n",
       "  'men',\n",
       "  'who',\n",
       "  'have',\n",
       "  'sex',\n",
       "  'with',\n",
       "  'men',\n",
       "  'at',\n",
       "  'risk',\n",
       "  'of',\n",
       "  'hiv',\n",
       "  u'infect'],\n",
       " ['are',\n",
       "  'women',\n",
       "  'who',\n",
       "  'have',\n",
       "  'sex',\n",
       "  'with',\n",
       "  'women',\n",
       "  'at',\n",
       "  'risk',\n",
       "  'of',\n",
       "  'hiv',\n",
       "  u'infect'],\n",
       " ['can', 'lesbian', 'sex', 'spread', 'hiv'],\n",
       " ['can', 'gay', 'sex', 'spread', 'hiv'],\n",
       " ['can',\n",
       "  'a',\n",
       "  'woman',\n",
       "  'who',\n",
       "  u'ha',\n",
       "  'hiv',\n",
       "  u'pass',\n",
       "  'the',\n",
       "  u'viru',\n",
       "  'to',\n",
       "  'her',\n",
       "  u'babi'],\n",
       " ['what', u'happen', 'to', 'a', 'pregnant', 'woman', 'with', 'hiv'],\n",
       " ['can', 'hiv', 'transfer', 'from', u'infect', 'mother', 'to', u'babi'],\n",
       " ['can', u'infect', 'mother', u'breastfe', 'her', u'babi'],\n",
       " ['can',\n",
       "  'a',\n",
       "  'person',\n",
       "  'with',\n",
       "  'hiv',\n",
       "  'who',\n",
       "  'is',\n",
       "  'not',\n",
       "  'sick',\n",
       "  'or',\n",
       "  'who',\n",
       "  u'ha',\n",
       "  'no',\n",
       "  u'symptom',\n",
       "  u'pass',\n",
       "  'hiv',\n",
       "  'to',\n",
       "  u'someon',\n",
       "  u'els'],\n",
       " [u'onc',\n",
       "  u'infect',\n",
       "  'and',\n",
       "  'now',\n",
       "  'in',\n",
       "  u'healthi',\n",
       "  u'condit',\n",
       "  'can',\n",
       "  'he',\n",
       "  'infect',\n",
       "  'me'],\n",
       " [u'onc',\n",
       "  u'infect',\n",
       "  'and',\n",
       "  'now',\n",
       "  'in',\n",
       "  u'healthi',\n",
       "  u'condit',\n",
       "  'can',\n",
       "  'she',\n",
       "  'infect',\n",
       "  'me'],\n",
       " ['can',\n",
       "  'a',\n",
       "  'person',\n",
       "  'with',\n",
       "  'hiv',\n",
       "  'who',\n",
       "  u'ha',\n",
       "  'an',\n",
       "  u'undetect',\n",
       "  'viral',\n",
       "  'load',\n",
       "  u'pass',\n",
       "  'hiv',\n",
       "  'to',\n",
       "  u'someon',\n",
       "  u'els'],\n",
       " ['how', 'much', u'infect', 'is', u'danger', 'to', u'pass', 'to', 'other'],\n",
       " ['is', 'the', 'hiv', 'test', '100', '%', u'accur'],\n",
       " ['how', u'accur', 'are', 'the', 'hiv', 'test', u'result'],\n",
       " ['can', 'i', 'get', 'hiv', 'from', u'kiss'],\n",
       " [u'doe', u'kiss', u'caus', 'hiv'],\n",
       " [u'doe', 'oral', 'sex', 'spread', 'human', u'immunodefici', u'viru'],\n",
       " ['can', 'i', 'get', 'hiv', 'from', 'oral', 'sex'],\n",
       " [u'doe', 'oral', 'sex', u'caus', 'hiv'],\n",
       " [u'doe', 'oral', 'sex', u'caus', 'human', u'immunodefici', u'viru'],\n",
       " ['can', 'i', 'get', 'hiv', 'from', 'a', 'human', 'bite'],\n",
       " [u'doe', 'human', 'bite', 'spread', 'hiv'],\n",
       " ['can', 'i', 'get', 'hiv', 'from', 'a', 'mosquito', 'bite'],\n",
       " [u'doe', 'mosquito', 'bite', 'spread', 'hiv'],\n",
       " ['can', 'tick', 'bite', u'caus', u'infect'],\n",
       " ['can', 'insect', 'bite', u'caus', u'infect'],\n",
       " [u'doe',\n",
       "  u'live',\n",
       "  'in',\n",
       "  'the',\n",
       "  'same',\n",
       "  u'hous',\n",
       "  'as',\n",
       "  'a',\n",
       "  'person',\n",
       "  'with',\n",
       "  'hiv',\n",
       "  'or',\n",
       "  u'aid',\n",
       "  'spread',\n",
       "  'hiv'],\n",
       " ['can',\n",
       "  'i',\n",
       "  'get',\n",
       "  'hiv',\n",
       "  'from',\n",
       "  u'live',\n",
       "  'in',\n",
       "  'the',\n",
       "  'same',\n",
       "  u'hous',\n",
       "  'as',\n",
       "  'a',\n",
       "  'person',\n",
       "  'with',\n",
       "  'hiv',\n",
       "  'or',\n",
       "  u'aid'],\n",
       " ['can', 'hiv', u'pass', 'through', 'food', 'water', 'or', 'the', 'air'],\n",
       " ['can', 'hiv', 'spread', 'through', 'food', 'water', 'or', 'the', 'air'],\n",
       " ['can', 'i', 'get', 'hiv', 'from', u'swim', u'pool', 'or', 'hot', u'tub'],\n",
       " ['can', 'hiv', 'spread', 'through', u'swim', u'pool', 'or', 'hot', u'tub'],\n",
       " ['can',\n",
       "  'i',\n",
       "  'get',\n",
       "  'hiv',\n",
       "  'from',\n",
       "  u'bodi',\n",
       "  u'pierc',\n",
       "  'ear',\n",
       "  u'pierc',\n",
       "  'or',\n",
       "  'tattoo',\n",
       "  u'needl'],\n",
       " ['can',\n",
       "  'hiv',\n",
       "  'spread',\n",
       "  'through',\n",
       "  u'bodi',\n",
       "  u'pierc',\n",
       "  'ear',\n",
       "  u'pierc',\n",
       "  'or',\n",
       "  'tattoo',\n",
       "  u'needl'],\n",
       " ['i', 'got', 'tattoo', 'am', 'i', 'at', 'risk'],\n",
       " [u'doe',\n",
       "  u'bodi',\n",
       "  u'pierc',\n",
       "  'ear',\n",
       "  u'pierc',\n",
       "  'or',\n",
       "  'tattoo',\n",
       "  u'needl',\n",
       "  'spread',\n",
       "  'hiv'],\n",
       " ['what',\n",
       "  'is',\n",
       "  u'be',\n",
       "  'done',\n",
       "  'to',\n",
       "  'keep',\n",
       "  'the',\n",
       "  'blood',\n",
       "  u'suppli',\n",
       "  'and',\n",
       "  'other',\n",
       "  'blood',\n",
       "  u'product',\n",
       "  'safe',\n",
       "  'from',\n",
       "  'hiv'],\n",
       " ['how',\n",
       "  'are',\n",
       "  'the',\n",
       "  'blood',\n",
       "  u'suppli',\n",
       "  'and',\n",
       "  'other',\n",
       "  'blood',\n",
       "  u'product',\n",
       "  u'kept',\n",
       "  'safe',\n",
       "  'from',\n",
       "  'hiv'],\n",
       " ['how',\n",
       "  'are',\n",
       "  'the',\n",
       "  'blood',\n",
       "  u'suppli',\n",
       "  'and',\n",
       "  'other',\n",
       "  'blood',\n",
       "  u'product',\n",
       "  u'kept',\n",
       "  'safe',\n",
       "  'from',\n",
       "  'human',\n",
       "  u'immunodefici',\n",
       "  u'viru'],\n",
       " ['is', 'blood', u'donat', 'safe'],\n",
       " ['should', 'i', 'avoid', u'receiv', 'blood'],\n",
       " ['should', 'i', 'avoid', 'blood', u'transfus'],\n",
       " ['is', 'blood', u'transfus', 'safe'],\n",
       " ['are',\n",
       "  'health',\n",
       "  'care',\n",
       "  u'worker',\n",
       "  'or',\n",
       "  u'peopl',\n",
       "  'in',\n",
       "  'other',\n",
       "  u'occup',\n",
       "  'at',\n",
       "  'risk',\n",
       "  'of',\n",
       "  'hiv'],\n",
       " ['is', u'work', 'in', 'hiv', 'wing', 'at', u'hospit', 'safe'],\n",
       " ['can',\n",
       "  'i',\n",
       "  'get',\n",
       "  'hiv',\n",
       "  'from',\n",
       "  'contact',\n",
       "  'with',\n",
       "  'my',\n",
       "  'doctor',\n",
       "  'dentist',\n",
       "  'or',\n",
       "  'other',\n",
       "  'health',\n",
       "  'care',\n",
       "  u'profession'],\n",
       " ['can', u'be', 'in', 'hiv', 'wing', 'at', u'hospit', 'infect', 'me'],\n",
       " ['can', 'i', 'shake', 'hand', 'with', 'an', u'infect', 'person'],\n",
       " [u'doe', u'be', 'with', u'infect', 'person', u'caus', 'hiv'],\n",
       " ['is', 'there', 'a', 'test', 'for', 'hiv', u'infect'],\n",
       " ['can', 'hiv', 'be', u'diagnos'],\n",
       " ['i', 'have', u'symptom', 'of', 'hiv', 'what', 'should', 'i', 'do'],\n",
       " ['who', 'should', 'get', u'test', 'for', 'hiv'],\n",
       " ['should', 'i', 'be', u'test', 'for', 'hiv'],\n",
       " ['how', 'do', 'i', 'check', 'if', 'i', 'have', 'hiv'],\n",
       " ['how', 'do', 'i', 'get', u'test', 'for', 'hiv'],\n",
       " ['how', 'do', 'i', 'get', u'diagnos', 'for', 'hiv']]"
      ]
     },
     "execution_count": 36,
     "metadata": {},
     "output_type": "execute_result"
    }
   ],
   "source": [
    "stems"
   ]
  },
  {
   "cell_type": "code",
   "execution_count": null,
   "metadata": {
    "collapsed": true
   },
   "outputs": [],
   "source": []
  }
 ],
 "metadata": {
  "kernelspec": {
   "display_name": "Python 2",
   "language": "python",
   "name": "python2"
  },
  "language_info": {
   "codemirror_mode": {
    "name": "ipython",
    "version": 2
   },
   "file_extension": ".py",
   "mimetype": "text/x-python",
   "name": "python",
   "nbconvert_exporter": "python",
   "pygments_lexer": "ipython2",
   "version": "2.7.12"
  }
 },
 "nbformat": 4,
 "nbformat_minor": 2
}
