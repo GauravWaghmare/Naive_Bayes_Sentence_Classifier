{
 "cells": [
  {
   "cell_type": "code",
   "execution_count": 1,
   "metadata": {
    "collapsed": true
   },
   "outputs": [],
   "source": [
    "from __future__ import print_function"
   ]
  },
  {
   "cell_type": "code",
   "execution_count": 2,
   "metadata": {
    "collapsed": true
   },
   "outputs": [],
   "source": [
    "import csv"
   ]
  },
  {
   "cell_type": "code",
   "execution_count": 3,
   "metadata": {
    "collapsed": true
   },
   "outputs": [],
   "source": [
    "from nltk.stem import *\n",
    "import nltk"
   ]
  },
  {
   "cell_type": "code",
   "execution_count": 4,
   "metadata": {
    "collapsed": true
   },
   "outputs": [],
   "source": [
    "import numpy as np\n",
    "import scipy"
   ]
  },
  {
   "cell_type": "code",
   "execution_count": 5,
   "metadata": {
    "collapsed": true
   },
   "outputs": [],
   "source": [
    "from sklearn.naive_bayes import MultinomialNB"
   ]
  },
  {
   "cell_type": "code",
   "execution_count": 6,
   "metadata": {
    "collapsed": false
   },
   "outputs": [],
   "source": [
    "# Read the CSV file into a list of lists\n",
    "data = []\n",
    "with open('/home/gaurav/Downloads/Dataset_Bayesian_HIV_AIDS - Sheet1.csv') as csvfile:\n",
    "    spamreader = csv.reader(csvfile, delimiter=',', quotechar='|')\n",
    "    for row in spamreader:\n",
    "#         print(', '.join(row))\n",
    "#         print(row)\n",
    "        data.append(row)"
   ]
  },
  {
   "cell_type": "code",
   "execution_count": 7,
   "metadata": {
    "collapsed": false
   },
   "outputs": [],
   "source": [
    "# Remove the first row\n",
    "data = data[1:]\n",
    "\n",
    "# Change all characters to lower case\n",
    "for element in data:\n",
    "    element[0] = element[0].lower()"
   ]
  },
  {
   "cell_type": "code",
   "execution_count": 8,
   "metadata": {
    "collapsed": false
   },
   "outputs": [],
   "source": [
    "# Change all sentences to tokens \n",
    "sentences = []\n",
    "for element in data:\n",
    "    sentences.append(nltk.word_tokenize(element[0]))\n",
    "# words"
   ]
  },
  {
   "cell_type": "code",
   "execution_count": 9,
   "metadata": {
    "collapsed": true
   },
   "outputs": [],
   "source": [
    "# sentences\n",
    "# Change all tokens to their respective stems\n",
    "stems = []\n",
    "from nltk.stem.porter import *\n",
    "stemmer = PorterStemmer()\n",
    "for sentence in sentences:\n",
    "    stem = [stemmer.stem(word) for word in sentence]\n",
    "    stems.append(stem)\n",
    "# stems\n",
    "\n",
    "sentences = stems"
   ]
  },
  {
   "cell_type": "code",
   "execution_count": 10,
   "metadata": {
    "collapsed": false
   },
   "outputs": [],
   "source": [
    "# Construct vocabulary\n",
    "vocab = dict()\n",
    "vocab_size = 0\n",
    "for i in sentences:\n",
    "    for ii in i:\n",
    "        vocab[ii] = 1\n",
    "vocab_size = len(vocab)\n",
    "# vocab_size"
   ]
  },
  {
   "cell_type": "code",
   "execution_count": 11,
   "metadata": {
    "collapsed": false
   },
   "outputs": [],
   "source": [
    "# Construct a map to store position of each word in the vocabulary\n",
    "vocab_arr = list(vocab.keys())\n",
    "vocab_arr.sort()\n",
    "word_pos = dict()\n",
    "i = 0\n",
    "for word in vocab_arr:\n",
    "    word_pos[word] = i\n",
    "    i += 1\n",
    "# word_pos"
   ]
  },
  {
   "cell_type": "code",
   "execution_count": 12,
   "metadata": {
    "collapsed": false
   },
   "outputs": [],
   "source": [
    "no_ques = len(sentences)\n",
    "# print(no_ques)\n",
    "no_words = i\n",
    "# print(no_words)"
   ]
  },
  {
   "cell_type": "code",
   "execution_count": 13,
   "metadata": {
    "collapsed": false
   },
   "outputs": [],
   "source": [
    "X = np.zeros((no_ques, no_words))\n",
    "# print(X.shape)"
   ]
  },
  {
   "cell_type": "code",
   "execution_count": 14,
   "metadata": {
    "collapsed": false
   },
   "outputs": [
    {
     "data": {
      "text/plain": [
       "True"
      ]
     },
     "execution_count": 14,
     "metadata": {},
     "output_type": "execute_result"
    }
   ],
   "source": [
    "u'vitamin' in word_pos.keys()"
   ]
  },
  {
   "cell_type": "code",
   "execution_count": 15,
   "metadata": {
    "collapsed": false
   },
   "outputs": [],
   "source": [
    "for i in range(no_ques):\n",
    "    for word in stems[i]:\n",
    "        X[i, word_pos[word]] += 1\n",
    "#         print(X[i][word_pos[word]])\n",
    "#         print(word_pos[word])\n",
    "# print(X)"
   ]
  },
  {
   "cell_type": "code",
   "execution_count": 16,
   "metadata": {
    "collapsed": false
   },
   "outputs": [],
   "source": [
    "Y = np.zeros((no_ques))\n",
    "for i in range(no_ques):\n",
    "    Y[i] = data[i][1]\n",
    "# print(Y)"
   ]
  },
  {
   "cell_type": "code",
   "execution_count": 17,
   "metadata": {
    "collapsed": false
   },
   "outputs": [
    {
     "data": {
      "text/plain": [
       "MultinomialNB(alpha=1.0, class_prior=None, fit_prior=True)"
      ]
     },
     "execution_count": 17,
     "metadata": {},
     "output_type": "execute_result"
    }
   ],
   "source": [
    "clf = MultinomialNB()\n",
    "clf.fit(X, Y)"
   ]
  },
  {
   "cell_type": "code",
   "execution_count": 18,
   "metadata": {
    "collapsed": false
   },
   "outputs": [
    {
     "name": "stdout",
     "output_type": "stream",
     "text": [
      "[  0.   9.   0.   0.   1.   1.   1.   1.   1.   2.   2.   2.   2.   3.   3.\n",
      "   3.   3.   4.   4.   4.   4.   5.   5.   5.   5.   6.   6.   6.   6.   6.\n",
      "   7.   7.   7.   7.   8.   8.   8.   8.   9.   9.   9.   9.  10.  10.  10.\n",
      "  10.  11.  11.  11.  11.  12.  12.  12.  12.  12.  13.  13.  13.  13.  14.\n",
      "  14.  14.  14.  15.  15.  15.  16.  16.  16.  17.  17.  17.  18.  18.  14.\n",
      "  14.  19.  19.  19.  19.  20.  20.  20.  21.  21.  21.  21.  26.  22.  23.\n",
      "  23.  23.  23.  26.  24.  25.  25.  25.  25.  26.  26.  26.  26.  26.  26.\n",
      "  27.  27.  27.  27.  28.  28.  28.  28.  28.  28.  28.  29.  29.  29.  29.\n",
      "  29.  29.   4.  29.  30.  31.  31.  32.  32.  32.]\n"
     ]
    }
   ],
   "source": [
    "print(clf.predict(X))"
   ]
  },
  {
   "cell_type": "code",
   "execution_count": 19,
   "metadata": {
    "collapsed": false
   },
   "outputs": [
    {
     "name": "stdout",
     "output_type": "stream",
     "text": [
      "[ 26.]\n"
     ]
    }
   ],
   "source": [
    "hiv = np.zeros((1, no_words))\n",
    "hiv[0][word_pos['hiv']] = 1\n",
    "print(clf.predict(hiv))"
   ]
  },
  {
   "cell_type": "code",
   "execution_count": 24,
   "metadata": {
    "collapsed": false
   },
   "outputs": [
    {
     "data": {
      "text/plain": [
       "u'28'"
      ]
     },
     "execution_count": 24,
     "metadata": {},
     "output_type": "execute_result"
    }
   ],
   "source": [
    "# Experiment with textblob\n",
    "# from textblob.classifiers import NaiveBayesClassifier\n",
    "# with open('/home/gaurav/Downloads/Dataset_Bayesian_HIV_AIDS - Sheet1.csv') as csvfile:\n",
    "#     cl = NaiveBayesClassifier(csvfile, format=\"csv\")\n",
    "# cl.classify(\"HIV\")"
   ]
  },
  {
   "cell_type": "code",
   "execution_count": 23,
   "metadata": {
    "collapsed": false
   },
   "outputs": [
    {
     "data": {
      "text/plain": [
       "'28'"
      ]
     },
     "execution_count": 23,
     "metadata": {},
     "output_type": "execute_result"
    }
   ],
   "source": []
  },
  {
   "cell_type": "code",
   "execution_count": 22,
   "metadata": {
    "collapsed": true
   },
   "outputs": [],
   "source": []
  },
  {
   "cell_type": "code",
   "execution_count": null,
   "metadata": {
    "collapsed": true
   },
   "outputs": [],
   "source": []
  }
 ],
 "metadata": {
  "kernelspec": {
   "display_name": "Python 2",
   "language": "python",
   "name": "python2"
  },
  "language_info": {
   "codemirror_mode": {
    "name": "ipython",
    "version": 2
   },
   "file_extension": ".py",
   "mimetype": "text/x-python",
   "name": "python",
   "nbconvert_exporter": "python",
   "pygments_lexer": "ipython2",
   "version": "2.7.12"
  }
 },
 "nbformat": 4,
 "nbformat_minor": 2
}
